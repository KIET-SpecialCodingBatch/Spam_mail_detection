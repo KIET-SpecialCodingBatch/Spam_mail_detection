{
 "cells": [
  {
   "cell_type": "code",
   "execution_count": 5,
   "id": "6deb937a",
   "metadata": {},
   "outputs": [
    {
     "name": "stdout",
     "output_type": "stream",
     "text": [
      "FreeMsg Hey there darling it's been 3 week's now and no word back! I'd like some fun you up for it still? Tb ok! XxX std chgs to send, Â£1.50 to rcv\n",
      "[1 0 0 1 0 0 0 0 0 0 0 0 0 0 0 0 0 0 0 0 0 0 0 0 0 0 0 0 0 1 0 0]\n",
      "Spam mail\n"
     ]
    }
   ],
   "source": [
    "import numpy as np\n",
    "import pandas as pd\n",
    "from sklearn.model_selection import train_test_split\n",
    "from sklearn.feature_extraction.text import TfidfVectorizer\n",
    "from sklearn.tree import DecisionTreeClassifier\n",
    "from sklearn.metrics import accuracy_score\n",
    "\n",
    "#Data Collection & Pre-Processing\n",
    "\n",
    "# loading the data from csv file to a pandas Dataframe\n",
    "raw_mail_data = pd.read_csv(\"D:\\Desktop\\SPAM_MAIL_DETECTION\\mail_data.csv\")\n",
    "\n",
    "# replace the null values with a null string\n",
    "mail_data = raw_mail_data.where((pd.notnull(raw_mail_data)),'')\n",
    "\n",
    "# label spam mail as 1; ham mail as 0\n",
    "mail_data.loc[mail_data['Category'] == 'spam', 'Category',] = 1\n",
    "mail_data.loc[mail_data['Category'] == 'ham', 'Category',] = 0\n",
    "\n",
    "# separating the data as texts and label\n",
    "X = mail_data['Message']\n",
    "Y = mail_data['Category']\n",
    "\n",
    "#Splitting the data into training data & test data\n",
    "X_train, X_test, Y_train, Y_test = train_test_split(X, Y, test_size=0.2, random_state=3)\n",
    "\n",
    "#Feature Extraction\n",
    "\n",
    "# transform the text data to feature vectors that can be used as input to the decision tree classifier\n",
    "feature_extraction = TfidfVectorizer(min_df = 1, stop_words='english', lowercase='True')\n",
    "\n",
    "X_train_features = feature_extraction.fit_transform(X_train)\n",
    "X_test_features = feature_extraction.transform(X_test)\n",
    "\n",
    "# convert Y_train and Y_test values as integers\n",
    "Y_train = Y_train.astype('int')\n",
    "Y_test = Y_test.astype('int')\n",
    "\n",
    "#Training the Model\n",
    "\n",
    "# Decision Tree Classifier\n",
    "model = DecisionTreeClassifier()\n",
    "\n",
    "# training the Decision Tree Classifier model with the training data\n",
    "model.fit(X_train_features, Y_train)\n",
    "\n",
    "#Evaluating the trained model\n",
    "\n",
    "# prediction on training data\n",
    "prediction_on_training_data = model.predict(X_train_features)\n",
    "accuracy_on_training_data = accuracy_score(Y_train, prediction_on_training_data)\n",
    "\n",
    "# prediction on test data\n",
    "prediction_on_test_data = model.predict(X_test_features)\n",
    "accuracy_on_test_data = accuracy_score(Y_test, prediction_on_test_data)\n",
    "\n",
    "#Building a Predictive System\n",
    "\n",
    "input_mail = list(map(str,input().split()))\n",
    "\n",
    "# convert text to feature vectors\n",
    "input_data_features = feature_extraction.transform(input_mail)\n",
    "\n",
    "# making prediction\n",
    "prediction = model.predict(input_data_features)\n",
    "print(prediction)\n",
    "\n",
    "if (prediction[0]==0):\n",
    "  print('Ham mail')\n",
    "else:\n",
    "  print('Spam mail')\n"
   ]
  },
  {
   "cell_type": "code",
   "execution_count": null,
   "id": "56d8a4b2",
   "metadata": {},
   "outputs": [],
   "source": []
  }
 ],
 "metadata": {
  "kernelspec": {
   "display_name": "Python 3 (ipykernel)",
   "language": "python",
   "name": "python3"
  },
  "language_info": {
   "codemirror_mode": {
    "name": "ipython",
    "version": 3
   },
   "file_extension": ".py",
   "mimetype": "text/x-python",
   "name": "python",
   "nbconvert_exporter": "python",
   "pygments_lexer": "ipython3",
   "version": "3.9.7"
  }
 },
 "nbformat": 4,
 "nbformat_minor": 5
}
